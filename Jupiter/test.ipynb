{
 "cells": [
  {
   "metadata": {
    "ExecuteTime": {
     "end_time": "2025-03-14T01:06:14.414497Z",
     "start_time": "2025-03-14T01:06:14.134935Z"
    }
   },
   "cell_type": "code",
   "source": [
    "import re\n",
    "import pandas as pd\n",
    "\n",
    "text = \"1879-03-14  1879年 3月14日 ドイツ帝国 ヴュルテンベルク王国 ウルム\"\n",
    "\n",
    "# 日付の抽出 (YYYY-MM-DD または YYYY年 MM月 DD日)\n",
    "date_match = re.search(r\"(\\d{4}年\\s*\\d{1,2}月\\s*\\d{1,2}日)\", text)\n",
    "if date_match:\n",
    "    date_str = date_match.group(1) or date_match.group(2)\n",
    "else:\n",
    "    date_str = None\n",
    "\n",
    "# 出生地の抽出\n",
    "place_match = re.search(r\"(.+)\", text)\n",
    "if place_match:\n",
    "    place_str = place_match.group(1)\n",
    "    #日付を削除\n",
    "    place_str = re.sub(r\"(\\d{4}-\\d{2}-\\d{2})|(\\d{4}年\\s*\\d{1,2}月\\d{1,2}日)\", '', place_str).strip()\n",
    "else:\n",
    "    place_str = None\n",
    "\n",
    "\n",
    "print(f\"日付: {date_str}\")\n",
    "print(f\"出生地: {place_str}\")"
   ],
   "id": "877174c8b3cd5592",
   "outputs": [
    {
     "name": "stdout",
     "output_type": "stream",
     "text": [
      "日付: 1955年 4月18日\n",
      "出生地: 76歳没 アメリカ合衆国 ニュージャージー州 プリンストン\n"
     ]
    }
   ],
   "execution_count": 1
  },
  {
   "metadata": {
    "ExecuteTime": {
     "end_time": "2025-03-14T00:58:19.832742Z",
     "start_time": "2025-03-14T00:58:19.699471Z"
    }
   },
   "cell_type": "code",
   "source": [
    "import dateparser\n",
    "# 日付のフォーマットを統一し、年、月、日に分解\n",
    "if date_str:\n",
    "    parsed_date = dateparser.parse(date_str, date_formats=['%Y-%m-%d', '%Y年%m月%d日'])\n",
    "    if parsed_date:\n",
    "      birth_year = parsed_date.year\n",
    "      birth_month = parsed_date.month\n",
    "      birth_day = parsed_date.day\n",
    "    else:\n",
    "      birth_year = None\n",
    "      birth_month = None\n",
    "      birth_day = None\n",
    "else:\n",
    "    birth_year = None\n",
    "    birth_month = None\n",
    "    birth_day = None\n",
    "\n",
    "print(f\"生年: {birth_year}\")\n",
    "print(f\"生月: {birth_month}\")\n",
    "print(f\"生日: {birth_day}\")"
   ],
   "id": "8b44e034ab72a0f3",
   "outputs": [
    {
     "name": "stdout",
     "output_type": "stream",
     "text": [
      "生年: 1879\n",
      "生月: 3\n",
      "生日: 14\n"
     ]
    }
   ],
   "execution_count": 12
  },
  {
   "metadata": {
    "ExecuteTime": {
     "end_time": "2025-03-14T00:58:28.240875Z",
     "start_time": "2025-03-14T00:58:28.222874Z"
    }
   },
   "cell_type": "code",
   "source": [
    "# 出生地の分解\n",
    "if place_str:\n",
    "    parts = place_str.split()\n",
    "    if len(parts) >= 3:\n",
    "      birth_country = parts[0]\n",
    "      birth_kingdom = parts[1]\n",
    "      birth_city = parts[2]\n",
    "    elif len(parts) >= 2:\n",
    "      birth_country = parts[0]\n",
    "      birth_kingdom = None\n",
    "      birth_city = parts[1]\n",
    "    else:\n",
    "      birth_country = None\n",
    "      birth_kingdom = None\n",
    "      birth_city = parts[0]\n",
    "\n",
    "else:\n",
    "    birth_country = None\n",
    "    birth_kingdom = None\n",
    "    birth_city = None\n",
    "\n",
    "print(f\"出生国: {birth_country}\")\n",
    "print(f\"出生王国: {birth_kingdom}\")\n",
    "print(f\"出生都市: {birth_city}\")"
   ],
   "id": "99e0c1b848820926",
   "outputs": [
    {
     "name": "stdout",
     "output_type": "stream",
     "text": [
      "出生国: ドイツ帝国\n",
      "出生王国: ヴュルテンベルク王国\n",
      "出生都市: ウルム\n"
     ]
    }
   ],
   "execution_count": 13
  },
  {
   "metadata": {
    "ExecuteTime": {
     "end_time": "2025-03-14T00:58:30.316005Z",
     "start_time": "2025-03-14T00:58:30.307004Z"
    }
   },
   "cell_type": "code",
   "source": [
    "# DataFrame の作成\n",
    "data = {\n",
    "    \"birth_year\": [birth_year],\n",
    "    \"birth_month\": [birth_month],\n",
    "    \"birth_day\": [birth_day],\n",
    "    \"birth_country\": [birth_country],\n",
    "    \"birth_kingdom\": [birth_kingdom],\n",
    "    \"birth_city\": [birth_city],\n",
    "}\n",
    "df = pd.DataFrame(data)\n",
    "\n",
    "print(df)"
   ],
   "id": "28d5e42207648814",
   "outputs": [
    {
     "name": "stdout",
     "output_type": "stream",
     "text": [
      "   birth_year  birth_month  birth_day birth_country birth_kingdom birth_city\n",
      "0        1879            3         14         ドイツ帝国    ヴュルテンベルク王国        ウルム\n"
     ]
    }
   ],
   "execution_count": 14
  },
  {
   "metadata": {
    "ExecuteTime": {
     "end_time": "2025-03-14T02:19:20.329270Z",
     "start_time": "2025-03-14T02:19:20.275746Z"
    }
   },
   "cell_type": "code",
   "source": [
    "import re\n",
    "import pandas as pd\n",
    "import dateparser\n",
    "from utils.logger import get_logger\n",
    "\n",
    "logger = get_logger(__name__)\n",
    "\n",
    "\n",
    "def extract_and_format_death_info(text):\n",
    "    \"\"\"\n",
    "    _data_processor.py の _extract_text_from_cell メソッドで抽出されたテキストから、\n",
    "    key_type の \"death_date\" に基づいて、死亡年月日、年齢、死亡地の情報を詳細に抽出し、DataFrame を作成する。\n",
    "\n",
    "    Args:\n",
    "        text (str): 処理対象のテキスト（例: \"1955-04-18  1955年 4月18日 76歳没 アメリカ合衆国 ニュージャージー州 プリンストン\"）\n",
    "\n",
    "    Returns:\n",
    "        pandas.DataFrame: 死亡年月日、年齢、死亡地の情報を格納した DataFrame。\n",
    "                          テキストから情報が抽出できなかった場合は空の DataFrame を返す。\n",
    "    \"\"\"\n",
    "    logger.debug(f\"extract_and_format_death_info: 処理対象テキスト: {text}\")\n",
    "\n",
    "    # 日付の抽出 (YYYY年 MM月 DD日 または YYYY-MM-DD)\n",
    "    date_match = re.search(r\"(\\d{4})年\\s*(\\d{1,2})月(\\d{1,2})日|(\\d{4})-(\\d{1,2})-(\\d{1,2})\", text)\n",
    "    if date_match:\n",
    "        if date_match.group(1):\n",
    "            year_str, month_str, day_str = date_match.groups()[:3]\n",
    "            date_str = f\"{year_str}年{month_str}月{day_str}日\"\n",
    "        else:\n",
    "            year_str, month_str, day_str = date_match.groups()[3:]\n",
    "            date_str = f\"{year_str}年{month_str}月{day_str}日\"\n",
    "\n",
    "    else:\n",
    "        date_str = None\n",
    "\n",
    "    # 死亡年齢の抽出\n",
    "    age_match = re.search(r\"(\\d+)歳没\", text)\n",
    "    age_str = age_match.group(1) if age_match else None\n",
    "\n",
    "    # 死亡地の抽出\n",
    "    place_match = re.search(r\"(.+)$\", text)\n",
    "    if place_match:\n",
    "        place_str = place_match.group(1)\n",
    "        # 日付と年齢を削除\n",
    "        place_str = re.sub(r\"(\\d{4})年\\s*(\\d{1,2})月(\\d{1,2})日|(\\d{4})-(\\d{1,2})-(\\d{1,2})|\\d+歳没\", \"\", place_str).strip()\n",
    "    else:\n",
    "        place_str = None\n",
    "\n",
    "    if not date_str:\n",
    "        logger.warning(\"extract_and_format_death_info: 死亡年月日の抽出に失敗しました。\")\n",
    "        if age_str:\n",
    "            logger.warning(f\"extract_and_format_death_info: 死亡年齢: {age_str}\")\n",
    "        if place_str:\n",
    "            logger.warning(f\"extract_and_format_death_info: 死亡地: {place_str}\")\n",
    "        return pd.DataFrame()\n",
    "\n",
    "    logger.debug(f\"extract_and_format_death_info: 死亡年月日 (抽出): {date_str}\")\n",
    "    if age_str:\n",
    "        logger.debug(f\"extract_and_format_death_info: 死亡年齢: {age_str}\")\n",
    "    if place_str:\n",
    "        logger.debug(f\"extract_and_format_death_info: 死亡地: {place_str}\")\n",
    "\n",
    "    # 日付のフォーマットを統一し、年、月、日に分解\n",
    "    parsed_date = dateparser.parse(date_str, date_formats=['%Y年%m月%d日'])\n",
    "    if parsed_date:\n",
    "        death_year = parsed_date.year\n",
    "        death_month = parsed_date.month\n",
    "        death_day = parsed_date.day\n",
    "    else:\n",
    "        logger.warning(\"extract_and_format_death_info: 死亡年月日の解析に失敗しました。\")\n",
    "        return pd.DataFrame()\n",
    "\n",
    "    logger.debug(f\"extract_and_format_death_info: 死亡年: {death_year}, 死亡月: {death_month}, 死亡日: {death_day}\")\n",
    "\n",
    "    # 死亡地の分解\n",
    "    death_country, death_state, death_city = None, None, None\n",
    "\n",
    "    if place_str:\n",
    "        parts = place_str.split()\n",
    "        if len(parts) >= 3:\n",
    "            death_country = parts[0]\n",
    "            death_state = parts[1]\n",
    "            death_city = parts[2]\n",
    "        elif len(parts) >= 2:\n",
    "            death_country = parts[0]\n",
    "            death_state = parts[1]\n",
    "            death_city = None\n",
    "        elif len(parts) == 1:\n",
    "            death_city = parts[0]\n",
    "        logger.debug(f\"extract_and_format_death_info: 死亡国: {death_country}, 死亡州: {death_state}, 死亡都市: {death_city}\")\n",
    "\n",
    "    # DataFrame の作成\n",
    "    data = {\n",
    "        \"death_year\": [death_year],\n",
    "        \"death_month\": [death_month],\n",
    "        \"death_day\": [death_day],\n",
    "        \"death_age\": [int(age_str) if age_str else None],\n",
    "        \"death_country\": [death_country],\n",
    "        \"death_state\": [death_state],\n",
    "        \"death_city\": [death_city],\n",
    "    }\n",
    "    df = pd.DataFrame(data)\n",
    "    logger.debug(f\"extract_and_format_death_info: 作成したDataFrame:\\n{df}\")\n",
    "\n",
    "    return df\n",
    "\n",
    "# テスト用のテキスト\n",
    "text = \"1955-04-18  1955年 4月18日 76歳没 アメリカ合衆国 ニュージャージー州 プリンストン\"\n",
    "# テスト用のテキスト2(都市のみ)\n",
    "text2 = \"1955-04-18  1955年 4月18日 76歳没 プリンストン\"\n",
    "# テスト用のテキスト3(州のみ)\n",
    "text3 = \"1955-04-18  1955年 4月18日 76歳没 ニュージャージー州\"\n",
    "# テスト用のテキスト4(日付なし)\n",
    "text4 = \"76歳没 アメリカ合衆国 ニュージャージー州 プリンストン\"\n",
    "\n",
    "# 関数を実行\n",
    "df = extract_and_format_death_info(text)\n",
    "print(\"test1\")\n",
    "print(df)\n",
    "\n",
    "df2 = extract_and_format_death_info(text2)\n",
    "print(\"test2\")\n",
    "print(df2)\n",
    "\n",
    "df3 = extract_and_format_death_info(text3)\n",
    "print(\"test3\")\n",
    "print(df3)\n",
    "\n",
    "df4 = extract_and_format_death_info(text4)\n",
    "print(\"test4\")\n",
    "print(df4)"
   ],
   "id": "29eca0912f095fff",
   "outputs": [
    {
     "name": "stderr",
     "output_type": "stream",
     "text": [
      "\u001B[32m2025-03-14 11:19:20.284\u001B[0m | \u001B[34m\u001B[1mDEBUG   \u001B[0m | \u001B[36m__main__\u001B[0m:\u001B[36mextract_and_format_death_info\u001B[0m:\u001B[36m21\u001B[0m - \u001B[34m\u001B[1mextract_and_format_death_info: 処理対象テキスト: 1955-04-18  1955年 4月18日 76歳没 アメリカ合衆国 ニュージャージー州 プリンストン\u001B[0m\n",
      "\u001B[32m2025-03-14 11:19:20.285\u001B[0m | \u001B[34m\u001B[1mDEBUG   \u001B[0m | \u001B[36m__main__\u001B[0m:\u001B[36mextract_and_format_death_info\u001B[0m:\u001B[36m57\u001B[0m - \u001B[34m\u001B[1mextract_and_format_death_info: 死亡年月日 (抽出): 1955年04月18日\u001B[0m\n",
      "\u001B[32m2025-03-14 11:19:20.287\u001B[0m | \u001B[34m\u001B[1mDEBUG   \u001B[0m | \u001B[36m__main__\u001B[0m:\u001B[36mextract_and_format_death_info\u001B[0m:\u001B[36m59\u001B[0m - \u001B[34m\u001B[1mextract_and_format_death_info: 死亡年齢: 76\u001B[0m\n",
      "\u001B[32m2025-03-14 11:19:20.288\u001B[0m | \u001B[34m\u001B[1mDEBUG   \u001B[0m | \u001B[36m__main__\u001B[0m:\u001B[36mextract_and_format_death_info\u001B[0m:\u001B[36m61\u001B[0m - \u001B[34m\u001B[1mextract_and_format_death_info: 死亡地: アメリカ合衆国 ニュージャージー州 プリンストン\u001B[0m\n",
      "\u001B[32m2025-03-14 11:19:20.288\u001B[0m | \u001B[34m\u001B[1mDEBUG   \u001B[0m | \u001B[36m__main__\u001B[0m:\u001B[36mextract_and_format_death_info\u001B[0m:\u001B[36m73\u001B[0m - \u001B[34m\u001B[1mextract_and_format_death_info: 死亡年: 1955, 死亡月: 4, 死亡日: 18\u001B[0m\n",
      "\u001B[32m2025-03-14 11:19:20.289\u001B[0m | \u001B[34m\u001B[1mDEBUG   \u001B[0m | \u001B[36m__main__\u001B[0m:\u001B[36mextract_and_format_death_info\u001B[0m:\u001B[36m90\u001B[0m - \u001B[34m\u001B[1mextract_and_format_death_info: 死亡国: アメリカ合衆国, 死亡州: ニュージャージー州, 死亡都市: プリンストン\u001B[0m\n",
      "\u001B[32m2025-03-14 11:19:20.291\u001B[0m | \u001B[34m\u001B[1mDEBUG   \u001B[0m | \u001B[36m__main__\u001B[0m:\u001B[36mextract_and_format_death_info\u001B[0m:\u001B[36m103\u001B[0m - \u001B[34m\u001B[1mextract_and_format_death_info: 作成したDataFrame:\n",
      "   death_year  death_month  death_day  death_age  death_country      death_state       death_city \n",
      "0     1955          4          18         76      アメリカ合衆国  ニュージャージー州  プリンストン\u001B[0m\n",
      "\u001B[32m2025-03-14 11:19:20.294\u001B[0m | \u001B[34m\u001B[1mDEBUG   \u001B[0m | \u001B[36m__main__\u001B[0m:\u001B[36mextract_and_format_death_info\u001B[0m:\u001B[36m21\u001B[0m - \u001B[34m\u001B[1mextract_and_format_death_info: 処理対象テキスト: 1955-04-18  1955年 4月18日 76歳没 プリンストン\u001B[0m\n",
      "\u001B[32m2025-03-14 11:19:20.295\u001B[0m | \u001B[34m\u001B[1mDEBUG   \u001B[0m | \u001B[36m__main__\u001B[0m:\u001B[36mextract_and_format_death_info\u001B[0m:\u001B[36m57\u001B[0m - \u001B[34m\u001B[1mextract_and_format_death_info: 死亡年月日 (抽出): 1955年04月18日\u001B[0m\n",
      "\u001B[32m2025-03-14 11:19:20.295\u001B[0m | \u001B[34m\u001B[1mDEBUG   \u001B[0m | \u001B[36m__main__\u001B[0m:\u001B[36mextract_and_format_death_info\u001B[0m:\u001B[36m59\u001B[0m - \u001B[34m\u001B[1mextract_and_format_death_info: 死亡年齢: 76\u001B[0m\n",
      "\u001B[32m2025-03-14 11:19:20.296\u001B[0m | \u001B[34m\u001B[1mDEBUG   \u001B[0m | \u001B[36m__main__\u001B[0m:\u001B[36mextract_and_format_death_info\u001B[0m:\u001B[36m61\u001B[0m - \u001B[34m\u001B[1mextract_and_format_death_info: 死亡地: プリンストン\u001B[0m\n",
      "\u001B[32m2025-03-14 11:19:20.296\u001B[0m | \u001B[34m\u001B[1mDEBUG   \u001B[0m | \u001B[36m__main__\u001B[0m:\u001B[36mextract_and_format_death_info\u001B[0m:\u001B[36m73\u001B[0m - \u001B[34m\u001B[1mextract_and_format_death_info: 死亡年: 1955, 死亡月: 4, 死亡日: 18\u001B[0m\n",
      "\u001B[32m2025-03-14 11:19:20.297\u001B[0m | \u001B[34m\u001B[1mDEBUG   \u001B[0m | \u001B[36m__main__\u001B[0m:\u001B[36mextract_and_format_death_info\u001B[0m:\u001B[36m90\u001B[0m - \u001B[34m\u001B[1mextract_and_format_death_info: 死亡国: None, 死亡州: None, 死亡都市: プリンストン\u001B[0m\n",
      "\u001B[32m2025-03-14 11:19:20.299\u001B[0m | \u001B[34m\u001B[1mDEBUG   \u001B[0m | \u001B[36m__main__\u001B[0m:\u001B[36mextract_and_format_death_info\u001B[0m:\u001B[36m103\u001B[0m - \u001B[34m\u001B[1mextract_and_format_death_info: 作成したDataFrame:\n",
      "   death_year  death_month  death_day  death_age death_country death_state   death_city \n",
      "0     1955          4          18         76          None         None     プリンストン\u001B[0m\n",
      "\u001B[32m2025-03-14 11:19:20.303\u001B[0m | \u001B[34m\u001B[1mDEBUG   \u001B[0m | \u001B[36m__main__\u001B[0m:\u001B[36mextract_and_format_death_info\u001B[0m:\u001B[36m21\u001B[0m - \u001B[34m\u001B[1mextract_and_format_death_info: 処理対象テキスト: 1955-04-18  1955年 4月18日 76歳没 ニュージャージー州\u001B[0m\n",
      "\u001B[32m2025-03-14 11:19:20.304\u001B[0m | \u001B[34m\u001B[1mDEBUG   \u001B[0m | \u001B[36m__main__\u001B[0m:\u001B[36mextract_and_format_death_info\u001B[0m:\u001B[36m57\u001B[0m - \u001B[34m\u001B[1mextract_and_format_death_info: 死亡年月日 (抽出): 1955年04月18日\u001B[0m\n",
      "\u001B[32m2025-03-14 11:19:20.305\u001B[0m | \u001B[34m\u001B[1mDEBUG   \u001B[0m | \u001B[36m__main__\u001B[0m:\u001B[36mextract_and_format_death_info\u001B[0m:\u001B[36m59\u001B[0m - \u001B[34m\u001B[1mextract_and_format_death_info: 死亡年齢: 76\u001B[0m\n",
      "\u001B[32m2025-03-14 11:19:20.305\u001B[0m | \u001B[34m\u001B[1mDEBUG   \u001B[0m | \u001B[36m__main__\u001B[0m:\u001B[36mextract_and_format_death_info\u001B[0m:\u001B[36m61\u001B[0m - \u001B[34m\u001B[1mextract_and_format_death_info: 死亡地: ニュージャージー州\u001B[0m\n",
      "\u001B[32m2025-03-14 11:19:20.306\u001B[0m | \u001B[34m\u001B[1mDEBUG   \u001B[0m | \u001B[36m__main__\u001B[0m:\u001B[36mextract_and_format_death_info\u001B[0m:\u001B[36m73\u001B[0m - \u001B[34m\u001B[1mextract_and_format_death_info: 死亡年: 1955, 死亡月: 4, 死亡日: 18\u001B[0m\n",
      "\u001B[32m2025-03-14 11:19:20.306\u001B[0m | \u001B[34m\u001B[1mDEBUG   \u001B[0m | \u001B[36m__main__\u001B[0m:\u001B[36mextract_and_format_death_info\u001B[0m:\u001B[36m90\u001B[0m - \u001B[34m\u001B[1mextract_and_format_death_info: 死亡国: None, 死亡州: None, 死亡都市: ニュージャージー州\u001B[0m\n",
      "\u001B[32m2025-03-14 11:19:20.309\u001B[0m | \u001B[34m\u001B[1mDEBUG   \u001B[0m | \u001B[36m__main__\u001B[0m:\u001B[36mextract_and_format_death_info\u001B[0m:\u001B[36m103\u001B[0m - \u001B[34m\u001B[1mextract_and_format_death_info: 作成したDataFrame:\n",
      "   death_year  death_month  death_day  death_age death_country death_state      death_city    \n",
      "0     1955          4          18         76          None         None     ニュージャージー州\u001B[0m\n",
      "\u001B[32m2025-03-14 11:19:20.311\u001B[0m | \u001B[34m\u001B[1mDEBUG   \u001B[0m | \u001B[36m__main__\u001B[0m:\u001B[36mextract_and_format_death_info\u001B[0m:\u001B[36m21\u001B[0m - \u001B[34m\u001B[1mextract_and_format_death_info: 処理対象テキスト: 76歳没 アメリカ合衆国 ニュージャージー州 プリンストン\u001B[0m\n",
      "\u001B[32m2025-03-14 11:19:20.312\u001B[0m | \u001B[33m\u001B[1mWARNING \u001B[0m | \u001B[36m__main__\u001B[0m:\u001B[36mextract_and_format_death_info\u001B[0m:\u001B[36m50\u001B[0m - \u001B[33m\u001B[1mextract_and_format_death_info: 死亡年月日の抽出に失敗しました。\u001B[0m\n",
      "\u001B[32m2025-03-14 11:19:20.313\u001B[0m | \u001B[33m\u001B[1mWARNING \u001B[0m | \u001B[36m__main__\u001B[0m:\u001B[36mextract_and_format_death_info\u001B[0m:\u001B[36m52\u001B[0m - \u001B[33m\u001B[1mextract_and_format_death_info: 死亡年齢: 76\u001B[0m\n",
      "\u001B[32m2025-03-14 11:19:20.313\u001B[0m | \u001B[33m\u001B[1mWARNING \u001B[0m | \u001B[36m__main__\u001B[0m:\u001B[36mextract_and_format_death_info\u001B[0m:\u001B[36m54\u001B[0m - \u001B[33m\u001B[1mextract_and_format_death_info: 死亡地: アメリカ合衆国 ニュージャージー州 プリンストン\u001B[0m\n"
     ]
    },
    {
     "name": "stdout",
     "output_type": "stream",
     "text": [
      "test1\n",
      "   death_year  death_month  death_day  death_age  death_country      death_state       death_city \n",
      "0     1955          4          18         76      アメリカ合衆国  ニュージャージー州  プリンストン\n",
      "test2\n",
      "   death_year  death_month  death_day  death_age death_country death_state   death_city \n",
      "0     1955          4          18         76          None         None     プリンストン\n",
      "test3\n",
      "   death_year  death_month  death_day  death_age death_country death_state      death_city    \n",
      "0     1955          4          18         76          None         None     ニュージャージー州\n",
      "test4\n",
      "Empty DataFrame\n",
      "Columns: []\n",
      "Index: []\n"
     ]
    }
   ],
   "execution_count": 8
  },
  {
   "metadata": {
    "ExecuteTime": {
     "end_time": "2025-03-21T07:53:53.180559Z",
     "start_time": "2025-03-21T07:53:53.168562Z"
    }
   },
   "cell_type": "code",
   "source": [
    "import re\n",
    "\n",
    "text = \"\"\"\n",
    "アインシュタインは1879年3月14日、 ヘルマン・アインシュタイン を父、 パウリーネ・コッホ を母とし、その長男としてドイツ南西部の バーデンヴュルテンベルク州 ウルム市 にて生まれた 。父ヘルマンはその弟ヤコブから誘われ、アルベルト誕生翌年の1880年夏、一家は ミュンヘン に引っ越し、兄弟は、直流電流に基づいた電気機器を製造する会社Elektrotechnische Fabrik J Einstein Cieを設立した。ヘルマンは営業を担当しヤコブは技術を担当した。1881年には一家にマリアアルベルトの妹。通称マーヤ。が誕生し、一家は1894年まで同地ミュンヘンで暮らすことになる。 アインシュタインは、5歳ごろまであまり言葉を発して他人と会話することがなかった 。しかし、5歳のときに父親からもらった 方位磁針 が、自然界の仕組みに対する興味をもたらすきっかけとなった 。また、同じ頃、 ヴァイオリン を習い始めている 。そしてすぐに モーツァルト の曲が好きになり、ヴァイオリンは生涯の友となった。 アインシュタイン一家はその家系からして アシュケナージ系ユダヤ人 ではあったものの、敬虔なユダヤ教徒というわけではなかったため、アインシュタインは5歳から3年間、ミュンヘンにある カトリック 系の公立学校へ通った。卒業後はミュンヘンの ルイトポルト・ギムナジウム 英語版 現在ではアルバート・アインシュタイン・ギムナジウムと呼ばれている学校に入学。以後7年間、ドイツを離れイタリアに行くまで教育を受ける。しかし、同校の 軍国主義 的で重苦しい校風にはなじめなかった 。 幼少のころは、言葉を理解したり話したりするという面では問題がなかったが、言葉を出すのには時間を要した。一方で数学に関しては傑出した才能を示し、9歳のときに ピタゴラスの定理 の存在を知り、その定理の美しい証明を寝る間も惜しんで考え、そして自力で定理を証明した。12歳のときに家庭教師の マックス・タルムード から、 テオドール・シュピーカー の ユークリッド幾何学 の本をもらい 独習 。 微分 学と 積分 学も、この当時に独学で習得したといわれている。同じころ、医学生だった マックス・タルメイ から 天文学 の存在を知らされ、同時に物理学に関心を示すようになったという。 1894年 、父と叔父の会社が行きづまり 、その結果、新たな商業的な機会を求めて一家は イタリア の ミラノ に引っ越すことになった。父ヘルマンはアインシュタインがギムナジウムをしっかり卒業する必要があると判断し、アインシュタインだけ同地に残されることになった。父ヘルマンはアルベルトが 電気工学 の道へと進むといいと考えていたのだった。だがアインシュタインは規則ずくめで軍国主義的な校風と対立・反発し、1894年12月末、医師に書かせた診断書を口実にして退校を申し出て、家族を追って旅をし、当時イタリアの パヴィア にいた家族のもとへとやってきた 。このイタリアでの滞在中、アインシュタインは磁界中での エーテル の状態の調査についてという題名の短い試論を書いたという。\n",
    "\"\"\"\n",
    "\n",
    "def extract_parents_info(text):\n",
    "    father_pattern = re.compile(r'(?P<father>[\\w・ー]+)\\s*を父')\n",
    "    mother_pattern = re.compile(r'(?P<mother>[\\w・ー]+)\\s*を母')\n",
    "\n",
    "    father_match = father_pattern.search(text)\n",
    "    mother_match = mother_pattern.search(text)\n",
    "\n",
    "    father_name = father_match.group('father') if father_match else None\n",
    "    mother_name = mother_match.group('mother') if mother_match else None\n",
    "\n",
    "    return {\n",
    "        'father': father_name,\n",
    "        'mother': mother_name\n",
    "    }\n",
    "\n",
    "parents_info = extract_parents_info(text)\n",
    "print(parents_info)"
   ],
   "id": "4d985c6059badce3",
   "outputs": [
    {
     "name": "stdout",
     "output_type": "stream",
     "text": [
      "{'father': 'ヘルマン・アインシュタイン', 'mother': 'パウリーネ・コッホ'}\n"
     ]
    }
   ],
   "execution_count": 2
  },
  {
   "metadata": {},
   "cell_type": "code",
   "outputs": [],
   "execution_count": null,
   "source": "",
   "id": "9aaa91e0c8aff2"
  }
 ],
 "metadata": {
  "kernelspec": {
   "display_name": "Python 3",
   "language": "python",
   "name": "python3"
  },
  "language_info": {
   "codemirror_mode": {
    "name": "ipython",
    "version": 2
   },
   "file_extension": ".py",
   "mimetype": "text/x-python",
   "name": "python",
   "nbconvert_exporter": "python",
   "pygments_lexer": "ipython2",
   "version": "2.7.6"
  }
 },
 "nbformat": 4,
 "nbformat_minor": 5
}
